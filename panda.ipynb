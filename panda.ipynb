{
 "cells": [
  {
   "cell_type": "code",
   "execution_count": 6,
   "metadata": {},
   "outputs": [],
   "source": [
    "\"\"\"Plotting referendum results in pandas.\n",
    "\n",
    "In short, we want to make beautiful map to report results of a referendum. In\n",
    "some way, we would like to depict results with something similar to the maps\n",
    "that you can find here:\n",
    "https://github.com/x-datascience-datacamp/datacamp-assignment-pandas/blob/main/example_map.png\n",
    "\n",
    "To do that, you will load the data as pandas.DataFrame, merge the info and\n",
    "aggregate them by regions and finally plot them on a map using `geopandas`.\n",
    "\"\"\"\n",
    "import pandas as pd\n",
    "import geopandas as gpd\n",
    "import matplotlib.pyplot as plt\n"
   ]
  },
  {
   "cell_type": "code",
   "execution_count": 19,
   "metadata": {},
   "outputs": [],
   "source": [
    "def load_data():\n",
    "    \"\"\"Load data from the CSV files referundum/regions/departments.\"\"\"\n",
    "    referendum = pd.read_csv('data/referendum.csv', sep=';')\n",
    "    regions = pd.read_csv('data/regions.csv')\n",
    "    departments = pd.read_csv('data/departments.csv')\n",
    "\n",
    "    return referendum, regions, departments\n"
   ]
  },
  {
   "cell_type": "code",
   "execution_count": 37,
   "metadata": {},
   "outputs": [],
   "source": [
    "referendum = pd.read_csv('data/referendum.csv', sep=';')\n",
    "regions = pd.read_csv('data/regions.csv')\n",
    "departments = pd.read_csv('data/departments.csv')\n"
   ]
  },
  {
   "cell_type": "code",
   "execution_count": 49,
   "metadata": {},
   "outputs": [
    {
     "name": "stdout",
     "output_type": "stream",
     "text": [
      "      Department code Department name  Town code                Town name  \\\n",
      "0                   1             AIN          1  L'Abergement-Clémenciat   \n",
      "1                   1             AIN          2    L'Abergement-de-Varey   \n",
      "2                   1             AIN          4        Ambérieu-en-Bugey   \n",
      "3                   1             AIN          5      Ambérieux-en-Dombes   \n",
      "4                   1             AIN          6                  Ambléon   \n",
      "...               ...             ...        ...                      ...   \n",
      "36560              95      VAL D'OISE        676       Villers-en-Arthies   \n",
      "36561              95      VAL D'OISE        678            Villiers-Adam   \n",
      "36562              95      VAL D'OISE        680          Villiers-le-Bel   \n",
      "36563              95      VAL D'OISE        682          Villiers-le-Sec   \n",
      "36564              95      VAL D'OISE        690      Wy-dit-Joli-Village   \n",
      "\n",
      "       Registered  Abstentions  Null  Choice A  Choice B  \n",
      "0             592           84     9       154       345  \n",
      "1             215           36     5        66       108  \n",
      "2            8205         1698   126      2717      3664  \n",
      "3            1152          170    18       280       684  \n",
      "4             105           17     1        35        52  \n",
      "...           ...          ...   ...       ...       ...  \n",
      "36560         382           64     5        87       226  \n",
      "36561         595           71     4       191       329  \n",
      "36562       13269         4083   224      5546      3416  \n",
      "36563          95           11     0        40        44  \n",
      "36564         279           30     1        83       165  \n",
      "\n",
      "[36565 rows x 9 columns]\n"
     ]
    }
   ],
   "source": [
    "referendum = referendum.loc[~referendum['Department code'].str.startswith('Z')]\n",
    "print(referendum)\n"
   ]
  },
  {
   "cell_type": "code",
   "execution_count": 38,
   "metadata": {},
   "outputs": [],
   "source": [
    "\n",
    "def merge_regions_and_departments(regions, departments):\n",
    "    \"\"\"Merge regions and departments in one DataFrame.\n",
    "\n",
    "    The columns in the final DataFrame should be:\n",
    "    ['code_reg', 'name_reg', 'code_dep', 'name_dep']\n",
    "    \"\"\"\n",
    "    \n",
    "   # Merge regions and departments on the corresponding columns\n",
    "    merged_df = pd.merge(regions, departments, how='inner', left_on='code', right_on='region_code')\n",
    "\n",
    "    # Select the required columns\n",
    "    result_df = merged_df[['code_x', 'name_x', 'code_y', 'name_y']]\n",
    "\n",
    "    # Rename the columns for consistency\n",
    "    result_df = result_df.rename(columns={'code_x': 'code_reg', 'name_x': 'name_reg', 'code_y':'code_dep','name_y': 'name_dep'})\n",
    "\n",
    "    return result_df\n"
   ]
  },
  {
   "cell_type": "code",
   "execution_count": 61,
   "metadata": {},
   "outputs": [],
   "source": [
    "regions_and_departments=merge_regions_and_departments(regions, departments)\n",
    "\n",
    "def merge_referendum_and_areas(referendum, regions_and_departments):\n",
    "    \"\"\"Merge referendum and regions_and_departments in one DataFrame.\n",
    "\n",
    "    You can drop the lines relative to DOM-TOM-COM departments, and the\n",
    "    french living abroad, which all have a code that contains `Z`.\n",
    "\n",
    "    DOM-TOM-COM departments are departements that are remote from metropolitan\n",
    "    France, like Guadaloupe, Reunion, or Tahiti.\n",
    "    \"\"\"\n",
    "\n",
    "    referendum = referendum.loc[~referendum['Department code'].str.startswith('Z')]\n",
    "    merged_df = pd.merge(regions_and_departments, referendum, how='inner', left_on='code_dep', right_on='Department code')\n",
    "    result_df = merged_df.rename(columns={'code_reg': 'Region code', 'name_reg':'Region name'})\n",
    "    result_df = result_df.drop({'code_dep','name_dep'}, axis=1)\n",
    "    return result_df \n"
   ]
  },
  {
   "cell_type": "code",
   "execution_count": 5,
   "metadata": {},
   "outputs": [
    {
     "ename": "ParserError",
     "evalue": "Error tokenizing data. C error: Expected 1 fields in line 36789, saw 3\n",
     "output_type": "error",
     "traceback": [
      "\u001b[1;31m---------------------------------------------------------------------------\u001b[0m",
      "\u001b[1;31mParserError\u001b[0m                               Traceback (most recent call last)",
      "Cell \u001b[1;32mIn[5], line 49\u001b[0m\n\u001b[0;32m     44\u001b[0m     \u001b[38;5;28;01mreturn\u001b[39;00m gpd\u001b[38;5;241m.\u001b[39mGeoDataFrame({})\n\u001b[0;32m     47\u001b[0m \u001b[38;5;28;01mif\u001b[39;00m \u001b[38;5;18m__name__\u001b[39m \u001b[38;5;241m==\u001b[39m \u001b[38;5;124m\"\u001b[39m\u001b[38;5;124m__main__\u001b[39m\u001b[38;5;124m\"\u001b[39m:\n\u001b[1;32m---> 49\u001b[0m     referendum, df_reg, df_dep \u001b[38;5;241m=\u001b[39m \u001b[43mload_data\u001b[49m\u001b[43m(\u001b[49m\u001b[43m)\u001b[49m\n\u001b[0;32m     50\u001b[0m     regions_and_departments \u001b[38;5;241m=\u001b[39m merge_regions_and_departments(\n\u001b[0;32m     51\u001b[0m         df_reg, df_dep\n\u001b[0;32m     52\u001b[0m     )\n\u001b[0;32m     53\u001b[0m     referendum_and_areas \u001b[38;5;241m=\u001b[39m merge_referendum_and_areas(\n\u001b[0;32m     54\u001b[0m         referendum, regions_and_departments\n\u001b[0;32m     55\u001b[0m     )\n",
      "Cell \u001b[1;32mIn[4], line 18\u001b[0m, in \u001b[0;36mload_data\u001b[1;34m()\u001b[0m\n\u001b[0;32m     16\u001b[0m \u001b[38;5;28;01mdef\u001b[39;00m \u001b[38;5;21mload_data\u001b[39m():\n\u001b[0;32m     17\u001b[0m \u001b[38;5;250m    \u001b[39m\u001b[38;5;124;03m\"\"\"Load data from the CSV files referundum/regions/departments.\"\"\"\u001b[39;00m\n\u001b[1;32m---> 18\u001b[0m     referendum \u001b[38;5;241m=\u001b[39m \u001b[43mpd\u001b[49m\u001b[38;5;241;43m.\u001b[39;49m\u001b[43mread_csv\u001b[49m\u001b[43m(\u001b[49m\u001b[38;5;124;43m'\u001b[39;49m\u001b[38;5;124;43mdata/referendum.csv\u001b[39;49m\u001b[38;5;124;43m'\u001b[39;49m\u001b[43m)\u001b[49m\n\u001b[0;32m     19\u001b[0m     regions \u001b[38;5;241m=\u001b[39m pd\u001b[38;5;241m.\u001b[39mread_csv(\u001b[38;5;124m'\u001b[39m\u001b[38;5;124mdata/regions.csv\u001b[39m\u001b[38;5;124m'\u001b[39m)\n\u001b[0;32m     20\u001b[0m     departments \u001b[38;5;241m=\u001b[39m pd\u001b[38;5;241m.\u001b[39mread_csv(\u001b[38;5;124m'\u001b[39m\u001b[38;5;124mdata/departments.csv\u001b[39m\u001b[38;5;124m'\u001b[39m)\n",
      "File \u001b[1;32m~\\AppData\\Local\\Packages\\PythonSoftwareFoundation.Python.3.10_qbz5n2kfra8p0\\LocalCache\\local-packages\\Python310\\site-packages\\pandas\\util\\_decorators.py:211\u001b[0m, in \u001b[0;36mdeprecate_kwarg.<locals>._deprecate_kwarg.<locals>.wrapper\u001b[1;34m(*args, **kwargs)\u001b[0m\n\u001b[0;32m    209\u001b[0m     \u001b[38;5;28;01melse\u001b[39;00m:\n\u001b[0;32m    210\u001b[0m         kwargs[new_arg_name] \u001b[38;5;241m=\u001b[39m new_arg_value\n\u001b[1;32m--> 211\u001b[0m \u001b[38;5;28;01mreturn\u001b[39;00m func(\u001b[38;5;241m*\u001b[39margs, \u001b[38;5;241m*\u001b[39m\u001b[38;5;241m*\u001b[39mkwargs)\n",
      "File \u001b[1;32m~\\AppData\\Local\\Packages\\PythonSoftwareFoundation.Python.3.10_qbz5n2kfra8p0\\LocalCache\\local-packages\\Python310\\site-packages\\pandas\\util\\_decorators.py:331\u001b[0m, in \u001b[0;36mdeprecate_nonkeyword_arguments.<locals>.decorate.<locals>.wrapper\u001b[1;34m(*args, **kwargs)\u001b[0m\n\u001b[0;32m    325\u001b[0m \u001b[38;5;28;01mif\u001b[39;00m \u001b[38;5;28mlen\u001b[39m(args) \u001b[38;5;241m>\u001b[39m num_allow_args:\n\u001b[0;32m    326\u001b[0m     warnings\u001b[38;5;241m.\u001b[39mwarn(\n\u001b[0;32m    327\u001b[0m         msg\u001b[38;5;241m.\u001b[39mformat(arguments\u001b[38;5;241m=\u001b[39m_format_argument_list(allow_args)),\n\u001b[0;32m    328\u001b[0m         \u001b[38;5;167;01mFutureWarning\u001b[39;00m,\n\u001b[0;32m    329\u001b[0m         stacklevel\u001b[38;5;241m=\u001b[39mfind_stack_level(),\n\u001b[0;32m    330\u001b[0m     )\n\u001b[1;32m--> 331\u001b[0m \u001b[38;5;28;01mreturn\u001b[39;00m func(\u001b[38;5;241m*\u001b[39margs, \u001b[38;5;241m*\u001b[39m\u001b[38;5;241m*\u001b[39mkwargs)\n",
      "File \u001b[1;32m~\\AppData\\Local\\Packages\\PythonSoftwareFoundation.Python.3.10_qbz5n2kfra8p0\\LocalCache\\local-packages\\Python310\\site-packages\\pandas\\io\\parsers\\readers.py:950\u001b[0m, in \u001b[0;36mread_csv\u001b[1;34m(filepath_or_buffer, sep, delimiter, header, names, index_col, usecols, squeeze, prefix, mangle_dupe_cols, dtype, engine, converters, true_values, false_values, skipinitialspace, skiprows, skipfooter, nrows, na_values, keep_default_na, na_filter, verbose, skip_blank_lines, parse_dates, infer_datetime_format, keep_date_col, date_parser, dayfirst, cache_dates, iterator, chunksize, compression, thousands, decimal, lineterminator, quotechar, quoting, doublequote, escapechar, comment, encoding, encoding_errors, dialect, error_bad_lines, warn_bad_lines, on_bad_lines, delim_whitespace, low_memory, memory_map, float_precision, storage_options)\u001b[0m\n\u001b[0;32m    935\u001b[0m kwds_defaults \u001b[38;5;241m=\u001b[39m _refine_defaults_read(\n\u001b[0;32m    936\u001b[0m     dialect,\n\u001b[0;32m    937\u001b[0m     delimiter,\n\u001b[1;32m   (...)\u001b[0m\n\u001b[0;32m    946\u001b[0m     defaults\u001b[38;5;241m=\u001b[39m{\u001b[38;5;124m\"\u001b[39m\u001b[38;5;124mdelimiter\u001b[39m\u001b[38;5;124m\"\u001b[39m: \u001b[38;5;124m\"\u001b[39m\u001b[38;5;124m,\u001b[39m\u001b[38;5;124m\"\u001b[39m},\n\u001b[0;32m    947\u001b[0m )\n\u001b[0;32m    948\u001b[0m kwds\u001b[38;5;241m.\u001b[39mupdate(kwds_defaults)\n\u001b[1;32m--> 950\u001b[0m \u001b[38;5;28;01mreturn\u001b[39;00m \u001b[43m_read\u001b[49m\u001b[43m(\u001b[49m\u001b[43mfilepath_or_buffer\u001b[49m\u001b[43m,\u001b[49m\u001b[43m \u001b[49m\u001b[43mkwds\u001b[49m\u001b[43m)\u001b[49m\n",
      "File \u001b[1;32m~\\AppData\\Local\\Packages\\PythonSoftwareFoundation.Python.3.10_qbz5n2kfra8p0\\LocalCache\\local-packages\\Python310\\site-packages\\pandas\\io\\parsers\\readers.py:611\u001b[0m, in \u001b[0;36m_read\u001b[1;34m(filepath_or_buffer, kwds)\u001b[0m\n\u001b[0;32m    608\u001b[0m     \u001b[38;5;28;01mreturn\u001b[39;00m parser\n\u001b[0;32m    610\u001b[0m \u001b[38;5;28;01mwith\u001b[39;00m parser:\n\u001b[1;32m--> 611\u001b[0m     \u001b[38;5;28;01mreturn\u001b[39;00m \u001b[43mparser\u001b[49m\u001b[38;5;241;43m.\u001b[39;49m\u001b[43mread\u001b[49m\u001b[43m(\u001b[49m\u001b[43mnrows\u001b[49m\u001b[43m)\u001b[49m\n",
      "File \u001b[1;32m~\\AppData\\Local\\Packages\\PythonSoftwareFoundation.Python.3.10_qbz5n2kfra8p0\\LocalCache\\local-packages\\Python310\\site-packages\\pandas\\io\\parsers\\readers.py:1778\u001b[0m, in \u001b[0;36mTextFileReader.read\u001b[1;34m(self, nrows)\u001b[0m\n\u001b[0;32m   1771\u001b[0m nrows \u001b[38;5;241m=\u001b[39m validate_integer(\u001b[38;5;124m\"\u001b[39m\u001b[38;5;124mnrows\u001b[39m\u001b[38;5;124m\"\u001b[39m, nrows)\n\u001b[0;32m   1772\u001b[0m \u001b[38;5;28;01mtry\u001b[39;00m:\n\u001b[0;32m   1773\u001b[0m     \u001b[38;5;66;03m# error: \"ParserBase\" has no attribute \"read\"\u001b[39;00m\n\u001b[0;32m   1774\u001b[0m     (\n\u001b[0;32m   1775\u001b[0m         index,\n\u001b[0;32m   1776\u001b[0m         columns,\n\u001b[0;32m   1777\u001b[0m         col_dict,\n\u001b[1;32m-> 1778\u001b[0m     ) \u001b[38;5;241m=\u001b[39m \u001b[38;5;28;43mself\u001b[39;49m\u001b[38;5;241;43m.\u001b[39;49m\u001b[43m_engine\u001b[49m\u001b[38;5;241;43m.\u001b[39;49m\u001b[43mread\u001b[49m\u001b[43m(\u001b[49m\u001b[43m  \u001b[49m\u001b[38;5;66;43;03m# type: ignore[attr-defined]\u001b[39;49;00m\n\u001b[0;32m   1779\u001b[0m \u001b[43m        \u001b[49m\u001b[43mnrows\u001b[49m\n\u001b[0;32m   1780\u001b[0m \u001b[43m    \u001b[49m\u001b[43m)\u001b[49m\n\u001b[0;32m   1781\u001b[0m \u001b[38;5;28;01mexcept\u001b[39;00m \u001b[38;5;167;01mException\u001b[39;00m:\n\u001b[0;32m   1782\u001b[0m     \u001b[38;5;28mself\u001b[39m\u001b[38;5;241m.\u001b[39mclose()\n",
      "File \u001b[1;32m~\\AppData\\Local\\Packages\\PythonSoftwareFoundation.Python.3.10_qbz5n2kfra8p0\\LocalCache\\local-packages\\Python310\\site-packages\\pandas\\io\\parsers\\c_parser_wrapper.py:230\u001b[0m, in \u001b[0;36mCParserWrapper.read\u001b[1;34m(self, nrows)\u001b[0m\n\u001b[0;32m    228\u001b[0m \u001b[38;5;28;01mtry\u001b[39;00m:\n\u001b[0;32m    229\u001b[0m     \u001b[38;5;28;01mif\u001b[39;00m \u001b[38;5;28mself\u001b[39m\u001b[38;5;241m.\u001b[39mlow_memory:\n\u001b[1;32m--> 230\u001b[0m         chunks \u001b[38;5;241m=\u001b[39m \u001b[38;5;28;43mself\u001b[39;49m\u001b[38;5;241;43m.\u001b[39;49m\u001b[43m_reader\u001b[49m\u001b[38;5;241;43m.\u001b[39;49m\u001b[43mread_low_memory\u001b[49m\u001b[43m(\u001b[49m\u001b[43mnrows\u001b[49m\u001b[43m)\u001b[49m\n\u001b[0;32m    231\u001b[0m         \u001b[38;5;66;03m# destructive to chunks\u001b[39;00m\n\u001b[0;32m    232\u001b[0m         data \u001b[38;5;241m=\u001b[39m _concatenate_chunks(chunks)\n",
      "File \u001b[1;32m~\\AppData\\Local\\Packages\\PythonSoftwareFoundation.Python.3.10_qbz5n2kfra8p0\\LocalCache\\local-packages\\Python310\\site-packages\\pandas\\_libs\\parsers.pyx:808\u001b[0m, in \u001b[0;36mpandas._libs.parsers.TextReader.read_low_memory\u001b[1;34m()\u001b[0m\n",
      "File \u001b[1;32m~\\AppData\\Local\\Packages\\PythonSoftwareFoundation.Python.3.10_qbz5n2kfra8p0\\LocalCache\\local-packages\\Python310\\site-packages\\pandas\\_libs\\parsers.pyx:866\u001b[0m, in \u001b[0;36mpandas._libs.parsers.TextReader._read_rows\u001b[1;34m()\u001b[0m\n",
      "File \u001b[1;32m~\\AppData\\Local\\Packages\\PythonSoftwareFoundation.Python.3.10_qbz5n2kfra8p0\\LocalCache\\local-packages\\Python310\\site-packages\\pandas\\_libs\\parsers.pyx:852\u001b[0m, in \u001b[0;36mpandas._libs.parsers.TextReader._tokenize_rows\u001b[1;34m()\u001b[0m\n",
      "File \u001b[1;32m~\\AppData\\Local\\Packages\\PythonSoftwareFoundation.Python.3.10_qbz5n2kfra8p0\\LocalCache\\local-packages\\Python310\\site-packages\\pandas\\_libs\\parsers.pyx:1973\u001b[0m, in \u001b[0;36mpandas._libs.parsers.raise_parser_error\u001b[1;34m()\u001b[0m\n",
      "\u001b[1;31mParserError\u001b[0m: Error tokenizing data. C error: Expected 1 fields in line 36789, saw 3\n"
     ]
    }
   ],
   "source": [
    "\n",
    "def compute_referendum_result_by_regions(referendum_and_areas):\n",
    "    \"\"\"Return a table with the absolute count for each region.\n",
    "\n",
    "    The return DataFrame should be indexed by `code_reg` and have columns:\n",
    "    ['name_reg', 'Registered', 'Abstentions', 'Null', 'Choice A', 'Choice B']\n",
    "    \"\"\"\n",
    "\n",
    "    return pd.DataFrame({})\n",
    "\n",
    "\n",
    "def plot_referendum_map(referendum_result_by_regions):\n",
    "    \"\"\"Plot a map with the results from the referendum.\n",
    "\n",
    "    * Load the geographic data with geopandas from `regions.geojson`.\n",
    "    * Merge these info into `referendum_result_by_regions`.\n",
    "    * Use the method `GeoDataFrame.plot` to display the result map. The results\n",
    "      should display the rate of 'Choice A' over all expressed ballots.\n",
    "    * Return a gpd.GeoDataFrame with a column 'ratio' containing the results.\n",
    "    \"\"\"\n",
    "\n",
    "    return gpd.GeoDataFrame({})\n",
    "\n",
    "\n",
    "if __name__ == \"__main__\":\n",
    "\n",
    "    referendum, df_reg, df_dep = load_data()\n",
    "    regions_and_departments = merge_regions_and_departments(\n",
    "        df_reg, df_dep\n",
    "    )\n",
    "    referendum_and_areas = merge_referendum_and_areas(\n",
    "        referendum, regions_and_departments\n",
    "    )\n",
    "    referendum_results = compute_referendum_result_by_regions(\n",
    "        referendum_and_areas\n",
    "    )\n",
    "    print(referendum_results)\n",
    "\n",
    "    plot_referendum_map(referendum_results)\n",
    "    plt.show()\n",
    "    "
   ]
  },
  {
   "cell_type": "code",
   "execution_count": null,
   "metadata": {},
   "outputs": [],
   "source": []
  }
 ],
 "metadata": {
  "kernelspec": {
   "display_name": "Python 3",
   "language": "python",
   "name": "python3"
  },
  "language_info": {
   "codemirror_mode": {
    "name": "ipython",
    "version": 3
   },
   "file_extension": ".py",
   "mimetype": "text/x-python",
   "name": "python",
   "nbconvert_exporter": "python",
   "pygments_lexer": "ipython3",
   "version": "3.10.11"
  }
 },
 "nbformat": 4,
 "nbformat_minor": 2
}
